{
 "cells": [
  {
   "cell_type": "markdown",
   "metadata": {},
   "source": [
    "# 1. Tree and Graph"
   ]
  },
  {
   "cell_type": "markdown",
   "metadata": {},
   "source": [
    "# 1.1 Preorder Traversal (Medium)\n",
    "\n",
    "Have the function `PreorderTraversal(strArr)` take the array of strings stored in `strArr`, which will represent a binary tree with integer values in a format similar to how a binary heap is implemented with NULL nodes at any level represented with a #. \n",
    "\n",
    "Your goal is to return the pre-order traversal of the tree with the elements separated by a space. \n",
    "\n",
    "For example: if strArr is `[\"5\", \"2\", \"6\", \"1\", \"9\", \"#\", \"8\", \"#\", \"#\", \"#\", \"#\", \"4\", \"#\"]` then this tree looks like the following tree:\n",
    "\n",
    "```\n",
    "     5\n",
    "   /  \\\n",
    "  2    6\n",
    " / \\    \\\n",
    "1   9    8\n",
    "        /\n",
    "       4\n",
    "```\n",
    "\n",
    "For the input above, your program should return the string `5 2 1 9 6 8 4` because that is the pre-order traversal of the tree.\n",
    "\n",
    "The solution below does **NOT** take care of\n",
    "\n",
    "```\n",
    "     5\n",
    "   /  \\\n",
    "  #    6\n",
    " / \\    \\\n",
    "#   #    8\n",
    "        /\n",
    "       4\n",
    "```"
   ]
  },
  {
   "cell_type": "code",
   "execution_count": 1,
   "metadata": {},
   "outputs": [],
   "source": [
    "def PreorderTraversal(strArr):\n",
    "\n",
    "  # code goes here\n",
    "  class Node:\n",
    "    def __init__(self, data):\n",
    "      self.val = data\n",
    "      self.left = None\n",
    "      self.right = None\n",
    "\n",
    "  # Build Tree\n",
    "  root = Node(strArr.pop(0))\n",
    "  q = [root]\n",
    "  while len(strArr) > 0:\n",
    "    this_node = q.pop(0)\n",
    "\n",
    "    left = strArr.pop(0)\n",
    "    if left != '#':\n",
    "      this_node.left = Node(left)\n",
    "      q.append(this_node.left)\n",
    "\n",
    "    right = strArr.pop(0)\n",
    "    if right != '#':\n",
    "      this_node.right = Node(right)\n",
    "      q.append(this_node.right)\n",
    "\n",
    "  def pre_order(node):\n",
    "    if node is None:\n",
    "      return\n",
    "    ans.append(node.val)\n",
    "    pre_order(node.left)\n",
    "    pre_order(node.right) \n",
    "\n",
    "  ans = []\n",
    "  pre_order(root)\n",
    "\n",
    "  return ' '.join(ans)"
   ]
  },
  {
   "cell_type": "code",
   "execution_count": 2,
   "metadata": {},
   "outputs": [
    {
     "data": {
      "text/plain": [
       "'5 2 1 9 6 8 4'"
      ]
     },
     "execution_count": 2,
     "metadata": {},
     "output_type": "execute_result"
    }
   ],
   "source": [
    "strArr = [\"5\", \"2\", \"6\", \"1\", \"9\", \"#\", \"8\", \"#\", \"#\", \"#\", \"#\", \"4\", \"#\"]\n",
    "PreorderTraversal(strArr)"
   ]
  },
  {
   "cell_type": "code",
   "execution_count": 3,
   "metadata": {},
   "outputs": [
    {
     "data": {
      "text/plain": [
       "'4 1 2 5'"
      ]
     },
     "execution_count": 3,
     "metadata": {},
     "output_type": "execute_result"
    }
   ],
   "source": [
    "strArr = [\"4\", \"1\", \"5\", \"2\", \"#\", \"#\", \"#\"]\n",
    "# Output: 4 1 2 5\n",
    "PreorderTraversal(strArr)"
   ]
  },
  {
   "cell_type": "code",
   "execution_count": 4,
   "metadata": {},
   "outputs": [
    {
     "data": {
      "text/plain": [
       "'2 6'"
      ]
     },
     "execution_count": 4,
     "metadata": {},
     "output_type": "execute_result"
    }
   ],
   "source": [
    "strArr = [\"2\", \"6\", \"#\"]\n",
    "# Output: 2 6\n",
    "PreorderTraversal(strArr)"
   ]
  },
  {
   "cell_type": "markdown",
   "metadata": {},
   "source": [
    "**Wrong Answer**"
   ]
  },
  {
   "cell_type": "code",
   "execution_count": 5,
   "metadata": {},
   "outputs": [
    {
     "data": {
      "text/plain": [
       "'5 2 1 2 99 12 9 6 8'"
      ]
     },
     "execution_count": 5,
     "metadata": {},
     "output_type": "execute_result"
    }
   ],
   "source": [
    "strArr = [\"5\", \"2\", \"6\", \"1\", \"9\", \"#\", \"8\", \"2\", \"12\", \"#\", \"#\", \"#\", \"#\", \"#\", \"99\"]\n",
    "# Output: 5 2 1 2 12 9 6 8 99\n",
    "PreorderTraversal(strArr)"
   ]
  },
  {
   "cell_type": "code",
   "execution_count": 6,
   "metadata": {},
   "outputs": [
    {
     "ename": "IndexError",
     "evalue": "pop from empty list",
     "output_type": "error",
     "traceback": [
      "\u001b[1;31m---------------------------------------------------------------------------\u001b[0m",
      "\u001b[1;31mIndexError\u001b[0m                                Traceback (most recent call last)",
      "\u001b[1;32m<ipython-input-6-dc970198fabc>\u001b[0m in \u001b[0;36m<module>\u001b[1;34m\u001b[0m\n\u001b[0;32m      1\u001b[0m \u001b[0mstrArr\u001b[0m \u001b[1;33m=\u001b[0m \u001b[1;33m[\u001b[0m\u001b[1;34m\"1\"\u001b[0m\u001b[1;33m,\u001b[0m \u001b[1;34m\"#\"\u001b[0m\u001b[1;33m,\u001b[0m \u001b[1;34m\"2\"\u001b[0m\u001b[1;33m,\u001b[0m \u001b[1;34m\"#\"\u001b[0m\u001b[1;33m,\u001b[0m \u001b[1;34m\"#\"\u001b[0m\u001b[1;33m,\u001b[0m \u001b[1;34m\"#\"\u001b[0m\u001b[1;33m,\u001b[0m \u001b[1;34m\"3\"\u001b[0m\u001b[1;33m]\u001b[0m\u001b[1;33m\u001b[0m\u001b[1;33m\u001b[0m\u001b[0m\n\u001b[0;32m      2\u001b[0m \u001b[1;31m# Output: 1 2 3\u001b[0m\u001b[1;33m\u001b[0m\u001b[1;33m\u001b[0m\u001b[1;33m\u001b[0m\u001b[0m\n\u001b[1;32m----> 3\u001b[1;33m \u001b[0mPreorderTraversal\u001b[0m\u001b[1;33m(\u001b[0m\u001b[0mstrArr\u001b[0m\u001b[1;33m)\u001b[0m\u001b[1;33m\u001b[0m\u001b[1;33m\u001b[0m\u001b[0m\n\u001b[0m",
      "\u001b[1;32m<ipython-input-1-e5797da4f909>\u001b[0m in \u001b[0;36mPreorderTraversal\u001b[1;34m(strArr)\u001b[0m\n\u001b[0;32m     12\u001b[0m   \u001b[0mq\u001b[0m \u001b[1;33m=\u001b[0m \u001b[1;33m[\u001b[0m\u001b[0mroot\u001b[0m\u001b[1;33m]\u001b[0m\u001b[1;33m\u001b[0m\u001b[1;33m\u001b[0m\u001b[0m\n\u001b[0;32m     13\u001b[0m   \u001b[1;32mwhile\u001b[0m \u001b[0mlen\u001b[0m\u001b[1;33m(\u001b[0m\u001b[0mstrArr\u001b[0m\u001b[1;33m)\u001b[0m \u001b[1;33m>\u001b[0m \u001b[1;36m0\u001b[0m\u001b[1;33m:\u001b[0m\u001b[1;33m\u001b[0m\u001b[1;33m\u001b[0m\u001b[0m\n\u001b[1;32m---> 14\u001b[1;33m     \u001b[0mthis_node\u001b[0m \u001b[1;33m=\u001b[0m \u001b[0mq\u001b[0m\u001b[1;33m.\u001b[0m\u001b[0mpop\u001b[0m\u001b[1;33m(\u001b[0m\u001b[1;36m0\u001b[0m\u001b[1;33m)\u001b[0m\u001b[1;33m\u001b[0m\u001b[1;33m\u001b[0m\u001b[0m\n\u001b[0m\u001b[0;32m     15\u001b[0m \u001b[1;33m\u001b[0m\u001b[0m\n\u001b[0;32m     16\u001b[0m     \u001b[0mleft\u001b[0m \u001b[1;33m=\u001b[0m \u001b[0mstrArr\u001b[0m\u001b[1;33m.\u001b[0m\u001b[0mpop\u001b[0m\u001b[1;33m(\u001b[0m\u001b[1;36m0\u001b[0m\u001b[1;33m)\u001b[0m\u001b[1;33m\u001b[0m\u001b[1;33m\u001b[0m\u001b[0m\n",
      "\u001b[1;31mIndexError\u001b[0m: pop from empty list"
     ]
    }
   ],
   "source": [
    "strArr = [\"1\", \"#\", \"2\", \"#\", \"#\", \"#\", \"3\"]\n",
    "# Output: 1 2 3\n",
    "PreorderTraversal(strArr)"
   ]
  },
  {
   "cell_type": "markdown",
   "metadata": {},
   "source": [
    "# Try taking care of `#-#-#`"
   ]
  },
  {
   "cell_type": "code",
   "execution_count": 35,
   "metadata": {},
   "outputs": [],
   "source": [
    "def PreorderTraversal_2(strArr):\n",
    "\n",
    "  # code goes here\n",
    "  class Node:\n",
    "    def __init__(self, data):\n",
    "      self.val = data\n",
    "      self.left = None\n",
    "      self.right = None\n",
    "\n",
    "  # Build Tree\n",
    "  root = Node(strArr.pop(0))\n",
    "  q = [root]\n",
    "  while len(strArr) > 0:\n",
    "    this_node = q.pop(0)\n",
    "\n",
    "    left = strArr.pop(0)\n",
    "    this_node.left = Node(left)\n",
    "    q.append(this_node.left)\n",
    "\n",
    "    right = strArr.pop(0)\n",
    "    this_node.right = Node(right)\n",
    "    q.append(this_node.right)\n",
    "    \n",
    "  def pre_order(node):\n",
    "    if node is None:\n",
    "        return\n",
    "    elif node.val != '#':\n",
    "        ans.append(node.val)\n",
    "        pre_order(node.left)\n",
    "        pre_order(node.right) \n",
    "\n",
    "  ans = []\n",
    "  pre_order(root)\n",
    "\n",
    "  return ' '.join(ans)"
   ]
  },
  {
   "cell_type": "code",
   "execution_count": 36,
   "metadata": {},
   "outputs": [
    {
     "data": {
      "text/plain": [
       "'5 2 1 2 12 9 6 8 99'"
      ]
     },
     "execution_count": 36,
     "metadata": {},
     "output_type": "execute_result"
    }
   ],
   "source": [
    "strArr = [\"5\", \"2\", \"6\", \"1\", \"9\", \"#\", \"8\", \"2\", \"12\", \"#\", \"#\", \"#\", \"#\", \"#\", \"99\"]\n",
    "# Output: 5 2 1 2 12 9 6 8 99\n",
    "PreorderTraversal_2(strArr)"
   ]
  },
  {
   "cell_type": "code",
   "execution_count": 37,
   "metadata": {},
   "outputs": [
    {
     "data": {
      "text/plain": [
       "'1 2 3'"
      ]
     },
     "execution_count": 37,
     "metadata": {},
     "output_type": "execute_result"
    }
   ],
   "source": [
    "strArr = [\"1\", \"#\", \"2\", \"#\", \"#\", \"#\", \"3\"]\n",
    "# Output: 1 2 3\n",
    "PreorderTraversal_2(strArr)"
   ]
  },
  {
   "cell_type": "markdown",
   "metadata": {},
   "source": [
    "**Wrong Question!!**\n",
    "\n",
    "`[\"5\", \"2\", \"6\", \"1\", \"9\", \"#\", \"8\", \"#\", \"#\", \"#\", \"#\", \"4\", \"#\"]`"
   ]
  },
  {
   "cell_type": "code",
   "execution_count": 39,
   "metadata": {},
   "outputs": [
    {
     "data": {
      "text/plain": [
       "'5 2 1 9 6 8 4'"
      ]
     },
     "execution_count": 39,
     "metadata": {},
     "output_type": "execute_result"
    }
   ],
   "source": [
    "strArr = [\"5\", \"2\", \"6\", \"1\", \"9\", \"#\", \"8\", \"#\", \"#\", \"#\", \"#\", \"#\", \"#\", \"4\", \"#\"]\n",
    "# Output: 5 2 1 9 6 8 4\n",
    "PreorderTraversal_2(strArr)"
   ]
  },
  {
   "cell_type": "markdown",
   "metadata": {},
   "source": [
    "# 1.2 Shortest Path (Undirected Graph) (Hard)\n",
    "\n",
    "Have the function `ShortestPath(strArr)` take `strArr` which will be an array of strings which models a non-looping Graph. \n",
    "\n",
    "The structure of the array will be as follows: \n",
    "- The first element in the array will be the number of nodes N (points) in the array as a string. \n",
    "- The next N elements will be the nodes which can be anything (A, B, C .. Brick Street, Main Street .. etc.). \n",
    "- Then after the Nth element, the rest of the elements in the array will be the connections between all of the nodes. \n",
    "They will look like this: (A-B, B-C .. Brick Street-Main Street .. etc.). Although, there may exist no connections at all.\n",
    "\n",
    "An example of `strArr` may be: `[\"4\",\"A\",\"B\",\"C\",\"D\",\"A-B\",\"B-D\",\"B-C\",\"C-D\"]`. Your program should return the shortest path from the first Node to the last Node in the array separated by dashes. So in the example above the output should be `A-B-D`. \n",
    "\n",
    "Here is another example with `strArr` being `[\"7\",\"A\",\"B\",\"C\",\"D\",\"E\",\"F\",\"G\",\"A-B\",\"A-E\",\"B-C\",\"C-D\",\"D-F\",\"E-D\",\"F-G\"]`. The output for this array should be `A-E-D-F-G`. There will only ever be one shortest path for the array. \n",
    "\n",
    "If no path between the first and last node exists, return -1. The array will at minimum have two nodes. Also, the connection A-B for example, means that A can get to B and B can get to A."
   ]
  },
  {
   "cell_type": "code",
   "execution_count": 58,
   "metadata": {},
   "outputs": [],
   "source": [
    "def ShortestPath(strArr):\n",
    "\n",
    "  # code goes here\n",
    "  from collections import defaultdict\n",
    "\n",
    "  graph = defaultdict(list)\n",
    "\n",
    "  start = strArr[1]\n",
    "  end = strArr[int(strArr[0])]\n",
    "\n",
    "  for pair in strArr[int(strArr[0])+1:]:\n",
    "    pair_list = pair.split('-')\n",
    "    graph[pair_list[0]].append(pair_list[1])\n",
    "    graph[pair_list[1]].append(pair_list[0])\n",
    "  \n",
    "  print('graph', graph)\n",
    "    \n",
    "  q = [[start]]\n",
    "  shortest = None\n",
    "  while q:\n",
    "    temp_path = q.pop()\n",
    "    last_node = temp_path[-1]\n",
    "\n",
    "    for child in graph[last_node]:\n",
    "      if child not in temp_path:\n",
    "        next_path = temp_path.copy()\n",
    "        next_path.append(child)\n",
    "\n",
    "        if child == end:\n",
    "          if shortest == None or len(shortest) > len(next_path):\n",
    "            shortest = next_path\n",
    "        else:\n",
    "          q.append(next_path)\n",
    "    \n",
    "  if shortest == None:\n",
    "    return -1\n",
    "    \n",
    "  return '-'.join(shortest)"
   ]
  },
  {
   "cell_type": "code",
   "execution_count": 59,
   "metadata": {},
   "outputs": [
    {
     "name": "stdout",
     "output_type": "stream",
     "text": [
      "graph defaultdict(<class 'list'>, {'A': ['B', 'C'], 'B': ['A', 'C'], 'C': ['A', 'B', 'D'], 'D': ['C', 'F'], 'F': ['D']})\n"
     ]
    },
    {
     "data": {
      "text/plain": [
       "'A-C-D-F'"
      ]
     },
     "execution_count": 59,
     "metadata": {},
     "output_type": "execute_result"
    }
   ],
   "source": [
    "strArr = [\"5\",\"A\",\"B\",\"C\",\"D\",\"F\",\"A-B\",\"A-C\",\"B-C\",\"C-D\",\"D-F\"]\n",
    "# A-C-D-F\n",
    "ShortestPath(strArr)"
   ]
  },
  {
   "cell_type": "code",
   "execution_count": 60,
   "metadata": {},
   "outputs": [
    {
     "name": "stdout",
     "output_type": "stream",
     "text": [
      "graph defaultdict(<class 'list'>, {'A': ['B', 'E'], 'B': ['A', 'C'], 'E': ['A', 'D'], 'C': ['B', 'D'], 'D': ['C', 'F', 'E'], 'F': ['D', 'G'], 'G': ['F']})\n"
     ]
    },
    {
     "data": {
      "text/plain": [
       "'A-E-D-F-G'"
      ]
     },
     "execution_count": 60,
     "metadata": {},
     "output_type": "execute_result"
    }
   ],
   "source": [
    "strArr = [\"7\",\"A\",\"B\",\"C\",\"D\",\"E\",\"F\",\"G\",\"A-B\",\"A-E\",\"B-C\",\"C-D\",\"D-F\",\"E-D\",\"F-G\"]\n",
    "# A-E-D-F-G\n",
    "ShortestPath(strArr)"
   ]
  },
  {
   "cell_type": "code",
   "execution_count": 61,
   "metadata": {},
   "outputs": [
    {
     "name": "stdout",
     "output_type": "stream",
     "text": [
      "graph defaultdict(<class 'list'>, {'N1': ['N3', 'N2'], 'N3': ['N1', 'N4'], 'N4': ['N3', 'N5'], 'N5': ['N4', 'N2'], 'N2': ['N5', 'N1']})\n"
     ]
    },
    {
     "data": {
      "text/plain": [
       "'N1-N2-N5'"
      ]
     },
     "execution_count": 61,
     "metadata": {},
     "output_type": "execute_result"
    }
   ],
   "source": [
    "strArr = [\"5\",\"N1\",\"N2\",\"N3\",\"N4\",\"N5\",\"N1-N3\",\"N3-N4\",\"N4-N5\",\"N5-N2\",\"N2-N1\"]\n",
    "# N1-N2-N5\n",
    "ShortestPath(strArr)"
   ]
  },
  {
   "cell_type": "markdown",
   "metadata": {},
   "source": [
    "# 1.3 Farthest Nodes (Hard)\n",
    "\n",
    "Have the function `FarthestNodes(strArr)` read `strArr` which will be an array of hyphenated letters representing paths between those two nodes. \n",
    "\n",
    "For example: `[\"a-b\",\"b-c\",\"b-d\"]` means that there is a path from node a to b (and b to a), b to c, and b to d. \n",
    "\n",
    "Your program should determine the longest path that exists in the graph and return the length of that path. \n",
    "\n",
    "So for the example above, your program should return 2 because of the paths a-b-c and d-b-c. The path a-b-c also means that there is a path c-b-a. No cycles will exist in the graph and every node will be connected to some other node in the graph."
   ]
  },
  {
   "cell_type": "code",
   "execution_count": 67,
   "metadata": {},
   "outputs": [],
   "source": [
    "def FarthestNodes(strArr):\n",
    "\n",
    "  # code goes here\n",
    "  from collections import defaultdict\n",
    "  graph = defaultdict(list)\n",
    "\n",
    "  for pair in strArr:\n",
    "    pair_list = pair.split('-')\n",
    "    graph[pair_list[0]].append(pair_list[1])\n",
    "    graph[pair_list[1]].append(pair_list[0])\n",
    "\n",
    "  end_nodes = []\n",
    "  for k, v_list in graph.items():\n",
    "    if len(v_list) == 1:\n",
    "      end_nodes.append(k)\n",
    "    \n",
    "  distance = []\n",
    "  for i in end_nodes:\n",
    "    q = [i]\n",
    "    seen = set([i])\n",
    "    counter = 0\n",
    "    while q:\n",
    "      counter += 1\n",
    "      level_range = len(q)\n",
    "      for _ in range(level_range):\n",
    "        node = q.pop(0)\n",
    "        for child in graph[node]:\n",
    "          if child not in seen:\n",
    "            seen.add(child)\n",
    "            q.append(child)\n",
    "\n",
    "    distance.append(counter)\n",
    "\n",
    "  # Minus 1 because we count nodes\n",
    "  # But, distance = number of nodes - 1\n",
    "  return max(distance)-1"
   ]
  },
  {
   "cell_type": "code",
   "execution_count": 68,
   "metadata": {},
   "outputs": [
    {
     "data": {
      "text/plain": [
       "4"
      ]
     },
     "execution_count": 68,
     "metadata": {},
     "output_type": "execute_result"
    }
   ],
   "source": [
    "strArr = [\"b-e\",\"b-c\",\"c-d\",\"a-b\",\"e-f\"]\n",
    "# output = 4\n",
    "FarthestNodes(strArr)"
   ]
  },
  {
   "cell_type": "code",
   "execution_count": 69,
   "metadata": {},
   "outputs": [
    {
     "data": {
      "text/plain": [
       "3"
      ]
     },
     "execution_count": 69,
     "metadata": {},
     "output_type": "execute_result"
    }
   ],
   "source": [
    "strArr =[\"b-a\",\"c-e\",\"b-c\",\"d-c\"]\n",
    "# output = 3\n",
    "FarthestNodes(strArr)"
   ]
  },
  {
   "cell_type": "markdown",
   "metadata": {},
   "source": [
    "# 2. Dynamic Programming"
   ]
  },
  {
   "cell_type": "markdown",
   "metadata": {},
   "source": [
    "# 2.1 Palindromic Substring (Medium)\n",
    "\n",
    "Have the function `PalindromicSubstring(str)` take the `str` parameter being passed and find the longest palindromic substring, which means the longest substring which is read the same forwards as it is backwards. \n",
    "\n",
    "For example: if str is `\"abracecars\"` then your program should return the string `racecar` because it is the longest palindrome within the input string.\n",
    "\n",
    "The input will only contain lowercase alphabetic characters. The longest palindromic substring will always be unique, but if there is none that is longer than 2 characters, return the string none.\n",
    "\n",
    "**Idea** `https://www.youtube.com/watch?v=IrD8MA054vA`"
   ]
  },
  {
   "cell_type": "code",
   "execution_count": 71,
   "metadata": {},
   "outputs": [],
   "source": [
    "def PalindromicSubstring(strParam):\n",
    "\n",
    "  # code goes here\n",
    "  # Find palindrome from mid-string\n",
    "  def mid_palin(l,r):\n",
    "    while l >= 0 and r < len(strParam) and strParam[l] == strParam[r]:\n",
    "      l -= 1\n",
    "      r += 1\n",
    "    return strParam[l+1:r]\n",
    "\n",
    "  ans = []\n",
    "  for i in range(len(strParam)):\n",
    "    ans.append(mid_palin(i,i))\n",
    "    ans.append(mid_palin(i,i+1))\n",
    "\n",
    "  final = max(ans, key=len)\n",
    "  return final if len(final) > 2 else 'none'"
   ]
  },
  {
   "cell_type": "markdown",
   "metadata": {},
   "source": [
    "**Self**"
   ]
  },
  {
   "cell_type": "code",
   "execution_count": null,
   "metadata": {},
   "outputs": [],
   "source": [
    "def PalindromicSubstring(strParam):\n",
    "\n",
    "  # code goes here\n",
    "  # Find palindrome from mid-string\n",
    "  def mid_palin(m):\n",
    "    left_right = min(m, len(strParam)-m-1)\n",
    "    temp_palin = []\n",
    "    \n",
    "    # odd-number palin\n",
    "    for i in range(left_right):\n",
    "      if strParam[m-i-1:m+i+2] != strParam[m-i-1:m+i+2][::-1]:\n",
    "        break\n",
    "      else:       \n",
    "        temp_palin.append(strParam[m-i-1:m+i+2])\n",
    "        \n",
    "    # even-number-left palin\n",
    "    for i in range(left_right+1):\n",
    "      if strParam[m-i-1:m+i+1] != strParam[m-i-1:m+1][::-1]:\n",
    "        break\n",
    "      else:\n",
    "        temp_palin.append(strParam[m-i-1: m+1])\n",
    "\n",
    "    # even-number-right palin\n",
    "    for i in range(left_right+1):\n",
    "      if strParam[m-i:m+i+2] != strParam[m-i:m+i+2][::-1]:\n",
    "        break\n",
    "      else:\n",
    "        temp_palin.append(strParam[m-i:m+i+2])\n",
    "    \n",
    "    return max(temp_palin, key=len) if len(temp_palin) > 0 else ''\n",
    "\n",
    "  ans = []\n",
    "  for i in range(len(strParam)):\n",
    "    ans.append(mid_palin(i))\n",
    "\n",
    "  final = max(ans, key=len)\n",
    "\n",
    "  return final if len(final) > 2 else 'none'"
   ]
  },
  {
   "cell_type": "code",
   "execution_count": 72,
   "metadata": {},
   "outputs": [
    {
     "data": {
      "text/plain": [
       "'sannas'"
      ]
     },
     "execution_count": 72,
     "metadata": {},
     "output_type": "execute_result"
    }
   ],
   "source": [
    "strParam = 'hellosannasmith'\n",
    "# sannas\n",
    "PalindromicSubstring(strParam)"
   ]
  },
  {
   "cell_type": "code",
   "execution_count": 73,
   "metadata": {},
   "outputs": [
    {
     "data": {
      "text/plain": [
       "'racecar'"
      ]
     },
     "execution_count": 73,
     "metadata": {},
     "output_type": "execute_result"
    }
   ],
   "source": [
    "strParam = 'abracecars'\n",
    "# racecar\n",
    "PalindromicSubstring(strParam)"
   ]
  },
  {
   "cell_type": "code",
   "execution_count": 74,
   "metadata": {},
   "outputs": [
    {
     "data": {
      "text/plain": [
       "'none'"
      ]
     },
     "execution_count": 74,
     "metadata": {},
     "output_type": "execute_result"
    }
   ],
   "source": [
    "strParam = 'abcdefgg'\n",
    "# none\n",
    "PalindromicSubstring(strParam)"
   ]
  },
  {
   "cell_type": "code",
   "execution_count": 75,
   "metadata": {},
   "outputs": [
    {
     "data": {
      "text/plain": [
       "'acaaca'"
      ]
     },
     "execution_count": 75,
     "metadata": {},
     "output_type": "execute_result"
    }
   ],
   "source": [
    "strParam = 'acaaca'\n",
    "# acaaca\n",
    "PalindromicSubstring(strParam)"
   ]
  },
  {
   "cell_type": "code",
   "execution_count": 76,
   "metadata": {},
   "outputs": [
    {
     "data": {
      "text/plain": [
       "'bbbbbbbbbbbbbb'"
      ]
     },
     "execution_count": 76,
     "metadata": {},
     "output_type": "execute_result"
    }
   ],
   "source": [
    "strParam = 'bbbbbbbbbbbbbbgg'\n",
    "# bbbbbbbbbbbbbb\n",
    "PalindromicSubstring(strParam)"
   ]
  },
  {
   "cell_type": "markdown",
   "metadata": {},
   "source": [
    "# 2.2 Longest Matrix Path (Medium)\n",
    "\n",
    "Have the function `LongestMatrixPath(strArr)` take the array of strings stored in `strArr`, which will be an NxM matrix of positive single-digit integers, and find the longest increasing path composed of distinct integers. When moving through the matrix, you can only go up, down, left, and right. \n",
    "\n",
    "For example: if `strArr` is `[\"345\", \"326\", \"221\"]`, then this looks like the following matrix:\n",
    "\n",
    "```\n",
    "3 4 5\n",
    "3 2 6\n",
    "2 2 1\n",
    "```\n",
    "\n",
    "For the input above, the longest increasing path goes from: `3 -> 4 -> 5 -> 6`. \n",
    "\n",
    "Your program should return the number of connections in the longest path, so therefore for this input your program should return 3. There may not necessarily always be a longest path within the matrix.\n",
    "\n",
    "**Solution** `https://www.youtube.com/watch?v=5wNCietHfR8`"
   ]
  },
  {
   "cell_type": "code",
   "execution_count": 77,
   "metadata": {},
   "outputs": [],
   "source": [
    "def LongestMatrixPath(strArr):\n",
    "\n",
    "  # code goes here\n",
    "  # https://www.youtube.com/watch?v=5wNCietHfR8\n",
    "  matrix = []\n",
    "  for i in strArr:\n",
    "    matrix.append(list(i))\n",
    "\n",
    "  row = len(matrix)\n",
    "  col = len(matrix[0])\n",
    "  memo = [[0]*col for _ in range(row)]\n",
    "\n",
    "  def helper(i,j):\n",
    "    if memo[i][j] == 0:\n",
    "      path = []\n",
    "      for x,y in ((i-1,j),(i+1,j),(i,j-1),(i,j+1)):\n",
    "        if 0<=x<row and 0<=y<col and matrix[i][j] < matrix[x][y]:\n",
    "          path.append(helper(x,y))\n",
    "      memo[i][j] = 1 + max(path, default=0)\n",
    "    return memo[i][j]\n",
    "\n",
    "  return max([helper(i,j) for i in range(row) for j in range(col)]) - 1"
   ]
  },
  {
   "cell_type": "code",
   "execution_count": 78,
   "metadata": {},
   "outputs": [
    {
     "data": {
      "text/plain": [
       "5"
      ]
     },
     "execution_count": 78,
     "metadata": {},
     "output_type": "execute_result"
    }
   ],
   "source": [
    "strArr = [\"12256\", \"56219\", \"43215\"]\n",
    "# 5\n",
    "LongestMatrixPath(strArr)"
   ]
  },
  {
   "cell_type": "code",
   "execution_count": 79,
   "metadata": {},
   "outputs": [
    {
     "data": {
      "text/plain": [
       "3"
      ]
     },
     "execution_count": 79,
     "metadata": {},
     "output_type": "execute_result"
    }
   ],
   "source": [
    "strArr = [\"67\", \"21\", \"45\"]\n",
    "# 3\n",
    "LongestMatrixPath(strArr)"
   ]
  },
  {
   "cell_type": "markdown",
   "metadata": {},
   "source": [
    "# 2.3 Parallel Sums (Hard)\n",
    "\n",
    "Have the function `ParallelSums(arr)` take the array of integers stored in `arr` which will always contain an even amount of integers, and determine how they can be split into two even sets of integers each so that both sets add up to the same number. \n",
    "\n",
    "If this is impossible return -1. \n",
    "\n",
    "If it's possible to split the array into two sets, then return a string representation of the first set followed by the second set with each integer separated by a comma and both sets sorted in ascending order. The set that goes first is the set with the smallest first integer.\n",
    "\n",
    "For example: if arr is `[16, 22, 35, 8, 20, 1, 21, 11]`, then your program should output `1,11,20,35,8,16,21,22`"
   ]
  },
  {
   "cell_type": "code",
   "execution_count": 80,
   "metadata": {},
   "outputs": [],
   "source": [
    "def ParallelSums(arr):\n",
    "\n",
    "  # code goes here\n",
    "  from itertools import combinations\n",
    "\n",
    "  num = len(arr)//2\n",
    "  total = sum(arr)\n",
    "\n",
    "  for i in combinations(arr, num):\n",
    "    if 2*sum(i) == total:\n",
    "      for j in i:\n",
    "        idx = arr.index(j)\n",
    "        arr = arr[:idx] + arr[idx+1:]\n",
    "        \n",
    "      if min(i) < min(arr):\n",
    "        ans = sorted(i) + sorted(arr)\n",
    "      else:\n",
    "        ans = sorted(arr) + sorted(i)        \n",
    "      return ','.join([str(i) for i in ans])\n",
    "\n",
    "  return -1"
   ]
  },
  {
   "cell_type": "code",
   "execution_count": 82,
   "metadata": {},
   "outputs": [
    {
     "data": {
      "text/plain": [
       "'1,11,20,35,8,16,21,22'"
      ]
     },
     "execution_count": 82,
     "metadata": {},
     "output_type": "execute_result"
    }
   ],
   "source": [
    "arr = [16,22,35,8,20,1,21,11]\n",
    "# 1,11,20,35,8,16,21,22\n",
    "ParallelSums(arr)"
   ]
  },
  {
   "cell_type": "code",
   "execution_count": 83,
   "metadata": {},
   "outputs": [
    {
     "data": {
      "text/plain": [
       "'1,1,1,1'"
      ]
     },
     "execution_count": 83,
     "metadata": {},
     "output_type": "execute_result"
    }
   ],
   "source": [
    "arr = [1,1,1,1]\n",
    "# 1,1,1,1\n",
    "ParallelSums(arr)"
   ]
  },
  {
   "cell_type": "code",
   "execution_count": 81,
   "metadata": {},
   "outputs": [
    {
     "data": {
      "text/plain": [
       "-1"
      ]
     },
     "execution_count": 81,
     "metadata": {},
     "output_type": "execute_result"
    }
   ],
   "source": [
    "arr = [1,2,3,4,5,6]\n",
    "# -1\n",
    "ParallelSums(arr)"
   ]
  },
  {
   "cell_type": "markdown",
   "metadata": {},
   "source": [
    "# 2.4 Maximal Square (Hard)\n",
    "\n",
    "Have the function `MaximalSquare(strArr)` take the `strArr` parameter being passed which will be a 2D matrix of 0 and 1's, and determine the area of the largest square submatrix that contains all 1's. \n",
    "\n",
    "A square submatrix is one of equal width and height, and your program should return the area of the largest submatrix that contains only 1's. \n",
    "\n",
    "For example: if strArr is `[\"10100\", \"10111\", \"11111\", \"10010\"]` then this looks like the following matrix:\n",
    "\n",
    "1 0 1 0 0 <br>\n",
    "1 0 1 **1 1** <br>\n",
    "1 1 1 **1 1** <br>\n",
    "1 0 0 1 0\n",
    "\n",
    "For the input above, you can see the bolded 1's create the largest square submatrix of size 2x2, so your program should return the area which is 4. You can assume the input will not be empty."
   ]
  },
  {
   "cell_type": "code",
   "execution_count": 104,
   "metadata": {},
   "outputs": [],
   "source": [
    "def MaximalSquare(strArr):\n",
    "\n",
    "  # code goes here\n",
    "  # https://www.youtube.com/watch?v=_Lf1looyJMU\n",
    "  # https://www.youtube.com/watch?v=RElcqtFYTm0\n",
    "  row = len(strArr)\n",
    "  col = len(strArr[0])\n",
    "  matrix = []\n",
    "  for i in strArr:\n",
    "    matrix.append([int(c) for c in i])\n",
    "  \n",
    "  memo = [[0]*col for _ in range(row)]\n",
    "\n",
    "  for i in range(row):\n",
    "    for j in range(col):\n",
    "      if matrix[i][j] == 0:\n",
    "        memo[i][j] = 0\n",
    "\n",
    "      # from now on, matrix[i][j] == 1 \n",
    "      elif i == 0 or j == 0:\n",
    "        # edge condition\n",
    "        memo[i][j] = 1\n",
    "      else: \n",
    "        min_temp = 99\n",
    "        for x,y in ((i-1,j),(i-1,j-1),(i,j-1)):\n",
    "          min_temp = min(memo[x][y], min_temp)\n",
    "        memo[i][j] = 1 + min_temp\n",
    " \n",
    "  max_temp = 0\n",
    "  for i in range(row):\n",
    "    for j in range(col):\n",
    "      max_temp = max(memo[i][j], max_temp)\n",
    "  \n",
    "  return max_temp**2"
   ]
  },
  {
   "cell_type": "code",
   "execution_count": 105,
   "metadata": {},
   "outputs": [
    {
     "data": {
      "text/plain": [
       "9"
      ]
     },
     "execution_count": 105,
     "metadata": {},
     "output_type": "execute_result"
    }
   ],
   "source": [
    "strArr = [\"0111\", \"1111\", \"1111\", \"1111\"]\n",
    "# 9\n",
    "MaximalSquare(strArr)"
   ]
  },
  {
   "cell_type": "code",
   "execution_count": 106,
   "metadata": {},
   "outputs": [
    {
     "data": {
      "text/plain": [
       "1"
      ]
     },
     "execution_count": 106,
     "metadata": {},
     "output_type": "execute_result"
    }
   ],
   "source": [
    "strArr = [\"0111\", \"1101\", \"0111\"]\n",
    "# 1\n",
    "MaximalSquare(strArr)"
   ]
  },
  {
   "cell_type": "code",
   "execution_count": 107,
   "metadata": {},
   "outputs": [
    {
     "data": {
      "text/plain": [
       "4"
      ]
     },
     "execution_count": 107,
     "metadata": {},
     "output_type": "execute_result"
    }
   ],
   "source": [
    "strArr = [\"1111\", \"1101\", \"1111\", \"0111\"]\n",
    "# 4\n",
    "MaximalSquare(strArr)"
   ]
  },
  {
   "cell_type": "code",
   "execution_count": null,
   "metadata": {},
   "outputs": [],
   "source": []
  }
 ],
 "metadata": {
  "kernelspec": {
   "display_name": "Python 3",
   "language": "python",
   "name": "python3"
  },
  "language_info": {
   "codemirror_mode": {
    "name": "ipython",
    "version": 3
   },
   "file_extension": ".py",
   "mimetype": "text/x-python",
   "name": "python",
   "nbconvert_exporter": "python",
   "pygments_lexer": "ipython3",
   "version": "3.7.7"
  }
 },
 "nbformat": 4,
 "nbformat_minor": 4
}
